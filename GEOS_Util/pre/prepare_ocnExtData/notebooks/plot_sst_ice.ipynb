{
 "cells": [
  {
   "cell_type": "code",
   "execution_count": null,
   "id": "b55dcd65",
   "metadata": {},
   "outputs": [],
   "source": [
    "import xarray as xr\n",
    "import numpy as np\n",
    "import matplotlib.pyplot as plt\n",
    "\n",
    "%matplotlib inline"
   ]
  },
  {
   "cell_type": "markdown",
   "id": "7423f7b2",
   "metadata": {},
   "source": [
    "### read all data"
   ]
  },
  {
   "cell_type": "code",
   "execution_count": null,
   "id": "cfe598f8",
   "metadata": {},
   "outputs": [],
   "source": [
    "my_data_path = '/discover/nobackup/sakella/BCs/test_ocean_ext/prepare_ocnExtData/' # this is where I have a few data files\n",
    "\n",
    "\n",
    "ds = xr.open_mfdataset(my_data_path + \"sst_fraci_*.nc4\", parallel=True)"
   ]
  },
  {
   "cell_type": "code",
   "execution_count": null,
   "id": "7a201264",
   "metadata": {},
   "outputs": [],
   "source": [
    "ds"
   ]
  },
  {
   "cell_type": "markdown",
   "id": "2d863126",
   "metadata": {},
   "source": [
    "### Plot all data - SST"
   ]
  },
  {
   "cell_type": "code",
   "execution_count": null,
   "id": "5d64a5f7",
   "metadata": {},
   "outputs": [],
   "source": [
    "plt.figure(figsize=(16,6))\n",
    "\n",
    "plt.subplot(221)\n",
    "ds.SST.isel(time=0).plot()\n",
    "\n",
    "plt.subplot(222)\n",
    "ds.SST.isel(time=1).plot()\n",
    "\n",
    "plt.subplot(223)\n",
    "ds.SST.isel(time=2).plot()\n",
    "\n",
    "plt.subplot(224)\n",
    "ds.SST.isel(time=3).plot()"
   ]
  },
  {
   "cell_type": "markdown",
   "id": "4fe778e3",
   "metadata": {},
   "source": [
    "### Plot all data - FRACI"
   ]
  },
  {
   "cell_type": "code",
   "execution_count": null,
   "id": "1457e1a8",
   "metadata": {},
   "outputs": [],
   "source": [
    "plt.figure(figsize=(16,6))\n",
    "\n",
    "plt.subplot(221)\n",
    "ds.FRACI.isel(time=0).plot()\n",
    "\n",
    "plt.subplot(222)\n",
    "ds.FRACI.isel(time=1).plot()\n",
    "\n",
    "plt.subplot(223)\n",
    "ds.FRACI.isel(time=2).plot()\n",
    "\n",
    "plt.subplot(224)\n",
    "ds.FRACI.isel(time=3).plot()"
   ]
  },
  {
   "cell_type": "markdown",
   "id": "491433e1",
   "metadata": {},
   "source": [
    "# Note that the data is globally _defined_. This is not necessary as long as `fillValue` is _properly_ set. In our case, we simply _flooded_ the full field"
   ]
  },
  {
   "cell_type": "markdown",
   "id": "bbf7be3d",
   "metadata": {},
   "source": [
    "# The GEOS-GCM is _aware_ of the ocean and suitably selects data over there!"
   ]
  },
  {
   "cell_type": "code",
   "execution_count": null,
   "id": "0442c59a",
   "metadata": {},
   "outputs": [],
   "source": []
  }
 ],
 "metadata": {
  "kernelspec": {
   "display_name": "Python 3 (ipykernel)",
   "language": "python",
   "name": "python3"
  },
  "language_info": {
   "codemirror_mode": {
    "name": "ipython",
    "version": 3
   },
   "file_extension": ".py",
   "mimetype": "text/x-python",
   "name": "python",
   "nbconvert_exporter": "python",
   "pygments_lexer": "ipython3",
   "version": "3.9.9"
  }
 },
 "nbformat": 4,
 "nbformat_minor": 5
}
